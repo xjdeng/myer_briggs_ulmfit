{
 "cells": [
  {
   "cell_type": "code",
   "execution_count": 71,
   "metadata": {},
   "outputs": [
    {
     "name": "stdout",
     "output_type": "stream",
     "text": [
      "0.20.3\n"
     ]
    }
   ],
   "source": [
    "from sklearn.ensemble import RandomForestClassifier\n",
    "from sklearn.decomposition import PCA\n",
    "import pandas as pd\n",
    "import numpy as np\n",
    "from sklearn.externals import joblib\n",
    "from sklearn.model_selection import train_test_split\n",
    "from sklearn.metrics import f1_score\n",
    "import sklearn\n",
    "print(sklearn.__version__)\n",
    "from fastai.tabular import *\n",
    "from sklearn.metrics import f1_score\n"
   ]
  },
  {
   "cell_type": "code",
   "execution_count": 29,
   "metadata": {},
   "outputs": [],
   "source": [
    "defaults.device = torch.device('cuda')"
   ]
  },
  {
   "cell_type": "code",
   "execution_count": 2,
   "metadata": {},
   "outputs": [],
   "source": [
    "with open(\"english10000.txt\",'r') as f:\n",
    "    words = f.read().split(\"\\n\")"
   ]
  },
  {
   "cell_type": "code",
   "execution_count": 3,
   "metadata": {},
   "outputs": [
    {
     "data": {
      "text/plain": [
       "['the', 'of', 'and', 'to', 'a']"
      ]
     },
     "execution_count": 3,
     "metadata": {},
     "output_type": "execute_result"
    }
   ],
   "source": [
    "words[0:5]"
   ]
  },
  {
   "cell_type": "code",
   "execution_count": 4,
   "metadata": {},
   "outputs": [],
   "source": [
    "wordset = set(words)"
   ]
  },
  {
   "cell_type": "code",
   "execution_count": 79,
   "metadata": {},
   "outputs": [],
   "source": [
    "indexdict = {None: 0}\n",
    "for i,w in enumerate(words):\n",
    "    indexdict[w] = i"
   ]
  },
  {
   "cell_type": "code",
   "execution_count": 80,
   "metadata": {},
   "outputs": [
    {
     "data": {
      "text/plain": [
       "215"
      ]
     },
     "execution_count": 80,
     "metadata": {},
     "output_type": "execute_result"
    }
   ],
   "source": [
    "indexdict['center']"
   ]
  },
  {
   "cell_type": "code",
   "execution_count": 81,
   "metadata": {},
   "outputs": [],
   "source": [
    "def get_distribution(txt):\n",
    "    txtwords = txt.lower().split()\n",
    "    dist = [0]*(len(words))\n",
    "    for w in txtwords:\n",
    "        if w in wordset:\n",
    "            dist[indexdict[w]] += 1\n",
    "    tot = sum(dist)\n",
    "    return [d/tot for d in dist]"
   ]
  },
  {
   "cell_type": "code",
   "execution_count": 82,
   "metadata": {},
   "outputs": [
    {
     "data": {
      "text/plain": [
       "[0.16666666666666666,\n",
       " 0.16666666666666666,\n",
       " 0.16666666666666666,\n",
       " 0.16666666666666666,\n",
       " 0.3333333333333333,\n",
       " 0.0,\n",
       " 0.0,\n",
       " 0.0,\n",
       " 0.0,\n",
       " 0.0]"
      ]
     },
     "execution_count": 82,
     "metadata": {},
     "output_type": "execute_result"
    }
   ],
   "source": [
    "get_distribution(\"The of and to a adssssssssssssssss a\")[0:10]"
   ]
  },
  {
   "cell_type": "code",
   "execution_count": 83,
   "metadata": {},
   "outputs": [
    {
     "data": {
      "text/html": [
       "<div>\n",
       "<style scoped>\n",
       "    .dataframe tbody tr th:only-of-type {\n",
       "        vertical-align: middle;\n",
       "    }\n",
       "\n",
       "    .dataframe tbody tr th {\n",
       "        vertical-align: top;\n",
       "    }\n",
       "\n",
       "    .dataframe thead th {\n",
       "        text-align: right;\n",
       "    }\n",
       "</style>\n",
       "<table border=\"1\" class=\"dataframe\">\n",
       "  <thead>\n",
       "    <tr style=\"text-align: right;\">\n",
       "      <th></th>\n",
       "      <th>type</th>\n",
       "      <th>posts</th>\n",
       "    </tr>\n",
       "  </thead>\n",
       "  <tbody>\n",
       "    <tr>\n",
       "      <th>0</th>\n",
       "      <td>INFJ</td>\n",
       "      <td>http://www.youtube.com/watch?v=qsXHcwe3krw|||h...</td>\n",
       "    </tr>\n",
       "    <tr>\n",
       "      <th>1</th>\n",
       "      <td>ENTP</td>\n",
       "      <td>I'm finding the lack of me in these posts very...</td>\n",
       "    </tr>\n",
       "    <tr>\n",
       "      <th>2</th>\n",
       "      <td>INTP</td>\n",
       "      <td>Good one  _____   https://www.youtube.com/watc...</td>\n",
       "    </tr>\n",
       "    <tr>\n",
       "      <th>3</th>\n",
       "      <td>INTJ</td>\n",
       "      <td>Dear ,   I enjoyed our conversation the other ...</td>\n",
       "    </tr>\n",
       "    <tr>\n",
       "      <th>4</th>\n",
       "      <td>ENTJ</td>\n",
       "      <td>You're fired.|||That's another silly misconcep...</td>\n",
       "    </tr>\n",
       "  </tbody>\n",
       "</table>\n",
       "</div>"
      ],
      "text/plain": [
       "   type                                              posts\n",
       "0  INFJ  http://www.youtube.com/watch?v=qsXHcwe3krw|||h...\n",
       "1  ENTP  I'm finding the lack of me in these posts very...\n",
       "2  INTP  Good one  _____   https://www.youtube.com/watc...\n",
       "3  INTJ  Dear ,   I enjoyed our conversation the other ...\n",
       "4  ENTJ  You're fired.|||That's another silly misconcep..."
      ]
     },
     "execution_count": 83,
     "metadata": {},
     "output_type": "execute_result"
    }
   ],
   "source": [
    "mbti = pd.read_csv(\"kaggle/mbti.csv\")\n",
    "mbti.head()"
   ]
  },
  {
   "cell_type": "code",
   "execution_count": 10,
   "metadata": {},
   "outputs": [
    {
     "data": {
      "text/plain": [
       "Index(['type', 'posts'], dtype='object')"
      ]
     },
     "execution_count": 10,
     "metadata": {},
     "output_type": "execute_result"
    }
   ],
   "source": [
    "mbti.columns"
   ]
  },
  {
   "cell_type": "code",
   "execution_count": 84,
   "metadata": {},
   "outputs": [],
   "source": [
    "X = np.array([get_distribution(p) for p in mbti['posts']])"
   ]
  },
  {
   "cell_type": "code",
   "execution_count": 85,
   "metadata": {},
   "outputs": [],
   "source": [
    "Y = np.array(mbti['type'])"
   ]
  },
  {
   "cell_type": "code",
   "execution_count": 127,
   "metadata": {},
   "outputs": [],
   "source": [
    "rf = RandomForestClassifier(n_estimators=90)"
   ]
  },
  {
   "cell_type": "code",
   "execution_count": 128,
   "metadata": {},
   "outputs": [
    {
     "data": {
      "text/plain": [
       "RandomForestClassifier(bootstrap=True, class_weight=None, criterion='gini',\n",
       "            max_depth=None, max_features='auto', max_leaf_nodes=None,\n",
       "            min_impurity_decrease=0.0, min_impurity_split=None,\n",
       "            min_samples_leaf=1, min_samples_split=2,\n",
       "            min_weight_fraction_leaf=0.0, n_estimators=90, n_jobs=None,\n",
       "            oob_score=False, random_state=None, verbose=0,\n",
       "            warm_start=False)"
      ]
     },
     "execution_count": 128,
     "metadata": {},
     "output_type": "execute_result"
    }
   ],
   "source": [
    "rf.fit(X,Y)"
   ]
  },
  {
   "cell_type": "code",
   "execution_count": 129,
   "metadata": {},
   "outputs": [
    {
     "data": {
      "text/plain": [
       "['rf.pkl']"
      ]
     },
     "execution_count": 129,
     "metadata": {},
     "output_type": "execute_result"
    }
   ],
   "source": [
    "joblib.dump(rf,\"rf.pkl\")"
   ]
  },
  {
   "cell_type": "code",
   "execution_count": 130,
   "metadata": {},
   "outputs": [
    {
     "data": {
      "text/plain": [
       "array(['INFP'], dtype=object)"
      ]
     },
     "execution_count": 130,
     "metadata": {},
     "output_type": "execute_result"
    }
   ],
   "source": [
    "rf.predict([get_distribution(\"Hello World\")])"
   ]
  },
  {
   "cell_type": "code",
   "execution_count": 133,
   "metadata": {},
   "outputs": [
    {
     "data": {
      "text/plain": [
       "array([[0.022222, 0.022222, 0.033333, 0.033333, 0.      , 0.      , 0.      , 0.      , 0.188889, 0.188889, 0.188889,\n",
       "        0.211111, 0.033333, 0.022222, 0.022222, 0.033333]])"
      ]
     },
     "execution_count": 133,
     "metadata": {},
     "output_type": "execute_result"
    }
   ],
   "source": [
    "txt = \"\"\"\n",
    "\n",
    "Deep Learning Course Forums\n",
    "\n",
    "Problem creating custom loss function\n",
    "fastai users\n",
    " \n",
    " \n",
    "turntwo463\n",
    "David\n",
    "Mar 12\n",
    "I am trying to create and use a custom loss function. When my initial attempts failed I decided to take a step back and implement (through cut and paste) the standard loss function used with a unet Learner in my own notebook. I thought this would be a good way to check my understanding of the size of the tensor inputs and see where the inputs differed between the standard loss function and the ones I first created.\n",
    "\n",
    "To my disappointment my “cut and paste” loss function also does not work in that an exception is thrown during lr_find.\n",
    "\n",
    "/opt/anaconda3/lib/python3.7/site-packages/torch/nn/functional.py in nll_loss(input, target, weight, size_average, ignore_index, reduce, reduction)\n",
    "   1786     if input.size(0) != target.size(0):\n",
    "   1787         raise ValueError('Expected input batch_size ({}) to match target batch_size ({}).'\n",
    "-> 1788                          .format(input.size(0), target.size(0)))\n",
    "   1789     if dim == 2:\n",
    "   1790         ret = torch._C._nn.nll_loss(input, target, weight, _Reduction.get_enum(reduction), ignore_index)\n",
    "\n",
    "ValueError: Expected input batch_size (65536) to match target batch_size (8192).\n",
    "I would appreciate some insight into what I am doing wrong.\n",
    "\n",
    "Initial standard fastai code which does work:\n",
    "\n",
    "wd=1e-2\n",
    "learn = unet_learner(data, models.resnet34, metrics=[], wd=wd)\n",
    "print('Loss func ', learn.loss_func)\n",
    "Output:\n",
    "Loss func FlattenedLoss of CrossEntropyLoss()\n",
    "\n",
    "Here is the code I’ve pasted in (and renamed) that fails.\n",
    "\n",
    "class MyFlattenedLoss():\n",
    "    \"Same as `func`, but flattens input and target.\"\n",
    "    def __init__(self, func, *args, axis:int=-1, floatify:bool=False, is_2d:bool=True, **kwargs):\n",
    "        self.func,self.axis,self.floatify,self.is_2d = func(*args,**kwargs),axis,floatify,is_2d\n",
    "\n",
    "    def __repr__(self): return f\"My FlattenedLoss of {self.func}\"\n",
    "    @property\n",
    "    def reduction(self): return self.func.reduction\n",
    "    @reduction.setter\n",
    "    def reduction(self, v): self.func.reduction = v\n",
    "\n",
    "    def __call__(self, input:Tensor, target:Tensor, **kwargs)->Rank0Tensor:\n",
    "        print('input shape ', input.shape)\n",
    "        print('target shape ', target.shape)\n",
    "        \n",
    "        input = input.transpose(self.axis,-1).contiguous()\n",
    "        target = target.transpose(self.axis,-1).contiguous()\n",
    "        \n",
    "        print('input shape ', input.shape)\n",
    "        print('target shape ', target.shape)\n",
    "        \n",
    "        if self.floatify: target = target.float()\n",
    "        input = input.view(-1,input.shape[-1]) if self.is_2d else input.view(-1)\n",
    "        \n",
    "        print('input shape ', input.shape)\n",
    "        print('target shape ', target.shape)\n",
    "        print('floatify', self.floatify, ' 2d ', self.is_2d)\n",
    "        print('kwargs ', kwargs)\n",
    "        print('Func ', self.func)\n",
    "        print('target view ', target.view(-1).shape)\n",
    "        return self.func.__call__(input, target.view(-1), **kwargs)    \n",
    "    \n",
    "\n",
    "\n",
    "def MyCrossEntropyFlat(*args, axis:int=-1, **kwargs):\n",
    "    \"Same as `nn.CrossEntropyLoss`, but flattens input and target.\"\n",
    "    return MyFlattenedLoss(nn.CrossEntropyLoss, *args, axis=axis, **kwargs)\n",
    "\n",
    "wd=1e-2\n",
    "​learn = unet_learner(data, models.resnet34, metrics=[], wd=wd)\n",
    "learn.loss_func = MyCrossEntropyFlat()\n",
    "print('Loss func ', learn.loss_func)\n",
    "Output:\n",
    "Loss func My FlattenedLoss of CrossEntropyLoss()\n",
    "\n",
    "Exception occurs calling lr_find\n",
    "\n",
    "lr_find(learn)\n",
    "Note that the learner is setup to use a batch size of 8, there are 256 classes, and the images have been\n",
    "specified to be resized to [32,32]\n",
    "\n",
    "The following output is captured before the exception:\n",
    "\n",
    "input shape  torch.Size([8, 256, 32, 32])\n",
    "target shape  torch.Size([8, 1, 32, 32])\n",
    "input shape  torch.Size([8, 256, 32, 32])\n",
    "target shape  torch.Size([8, 1, 32, 32])\n",
    "input shape  torch.Size([65536, 32])\n",
    "target shape  torch.Size([8, 1, 32, 32])\n",
    "floatify False  2d  True\n",
    "kwargs  {}\n",
    "Func  CrossEntropyLoss()\n",
    "target view  torch.Size([8192])\n",
    "\n",
    "Reply\n",
    "\n",
    "created\n",
    "Mar 12\n",
    "last reply\n",
    "Mar 13\n",
    "2\n",
    "replies\n",
    "210\n",
    "views\n",
    "2\n",
    "users\n",
    "2\n",
    "likes\n",
    "\n",
    "\n",
    "renato\n",
    "Renato Hermoza\n",
    "Mar 12\n",
    "Try: learn.loss_func = MyCrossEntropyFlat(axis=1), thats the channel that indicates the labels.\n",
    "\n",
    "2\n",
    "\n",
    "Reply\n",
    "\n",
    "turntwo463\n",
    "David\n",
    "Mar 13\n",
    "Thank you! Specifying the axis index solved the issue.\n",
    "\n",
    "\n",
    "Reply\n",
    "  Bookmark   Share   Flag   Reply\n",
    " You will be notified if someone mentions your @name or replies to you.\n",
    "Suggested Topics\n",
    "Topic\tReplies\tViews\tActivity\n",
    "RuntimeError: invalid argument 0: Sizes of tensors must match except in dimension 0 1\n",
    "fastai users\n",
    "6\t1.7k\t8d\n",
    "EfficientNet \n",
    "fastai users\n",
    "12\t74\t3h\n",
    "There are 41 unread and 29 new topics remaining, or browse other topics in \n",
    "fastai users\n",
    "\"\"\"\n",
    "rf.predict_proba([get_distribution(txt)])"
   ]
  },
  {
   "cell_type": "code",
   "execution_count": 29,
   "metadata": {},
   "outputs": [
    {
     "data": {
      "text/plain": [
       "array(['ENFJ', 'ENFP', 'ENTJ', 'ENTP', 'ESFJ', 'ESFP', 'ESTJ', 'ESTP',\n",
       "       'INFJ', 'INFP', 'INTJ', 'INTP', 'ISFJ', 'ISFP', 'ISTJ', 'ISTP'],\n",
       "      dtype=object)"
      ]
     },
     "execution_count": 29,
     "metadata": {},
     "output_type": "execute_result"
    }
   ],
   "source": [
    "rf.classes_"
   ]
  },
  {
   "cell_type": "code",
   "execution_count": 86,
   "metadata": {},
   "outputs": [],
   "source": [
    "X1,X2,Y1,Y2 = train_test_split(X,Y,test_size=0.2)"
   ]
  },
  {
   "cell_type": "code",
   "execution_count": 87,
   "metadata": {},
   "outputs": [],
   "source": [
    "rf4 = RandomForestClassifier(n_estimators=90)"
   ]
  },
  {
   "cell_type": "code",
   "execution_count": 88,
   "metadata": {},
   "outputs": [
    {
     "data": {
      "text/plain": [
       "RandomForestClassifier(bootstrap=True, class_weight=None, criterion='gini',\n",
       "            max_depth=None, max_features='auto', max_leaf_nodes=None,\n",
       "            min_impurity_decrease=0.0, min_impurity_split=None,\n",
       "            min_samples_leaf=1, min_samples_split=2,\n",
       "            min_weight_fraction_leaf=0.0, n_estimators=90, n_jobs=None,\n",
       "            oob_score=False, random_state=None, verbose=0,\n",
       "            warm_start=False)"
      ]
     },
     "execution_count": 88,
     "metadata": {},
     "output_type": "execute_result"
    }
   ],
   "source": [
    "rf4.fit(X1,Y1)"
   ]
  },
  {
   "cell_type": "code",
   "execution_count": 89,
   "metadata": {},
   "outputs": [],
   "source": [
    "Yp = rf4.predict(X2)"
   ]
  },
  {
   "cell_type": "code",
   "execution_count": 90,
   "metadata": {},
   "outputs": [
    {
     "data": {
      "text/plain": [
       "0.2484149855907781"
      ]
     },
     "execution_count": 90,
     "metadata": {},
     "output_type": "execute_result"
    }
   ],
   "source": [
    "f1_score(Yp,Y2,average='micro')"
   ]
  },
  {
   "cell_type": "code",
   "execution_count": 91,
   "metadata": {},
   "outputs": [],
   "source": [
    "df = pd.DataFrame(X)"
   ]
  },
  {
   "cell_type": "code",
   "execution_count": 92,
   "metadata": {},
   "outputs": [
    {
     "data": {
      "text/plain": [
       "(8675, 10000)"
      ]
     },
     "execution_count": 92,
     "metadata": {},
     "output_type": "execute_result"
    }
   ],
   "source": [
    "df.shape"
   ]
  },
  {
   "cell_type": "code",
   "execution_count": 93,
   "metadata": {},
   "outputs": [
    {
     "data": {
      "text/plain": [
       "RangeIndex(start=0, stop=10000, step=1)"
      ]
     },
     "execution_count": 93,
     "metadata": {},
     "output_type": "execute_result"
    }
   ],
   "source": [
    "df.columns"
   ]
  },
  {
   "cell_type": "code",
   "execution_count": 94,
   "metadata": {},
   "outputs": [],
   "source": [
    "df['Y'] = Y"
   ]
  },
  {
   "cell_type": "code",
   "execution_count": 95,
   "metadata": {},
   "outputs": [
    {
     "data": {
      "text/plain": [
       "Index([   0,    1,    2,    3,    4,    5,    6,    7,    8,    9,\n",
       "       ...\n",
       "       9991, 9992, 9993, 9994, 9995, 9996, 9997, 9998, 9999,  'Y'],\n",
       "      dtype='object', length=10001)"
      ]
     },
     "execution_count": 95,
     "metadata": {},
     "output_type": "execute_result"
    }
   ],
   "source": [
    "df.columns"
   ]
  },
  {
   "cell_type": "code",
   "execution_count": 96,
   "metadata": {},
   "outputs": [],
   "source": [
    "labels = list(range(0,10000))"
   ]
  },
  {
   "cell_type": "code",
   "execution_count": 97,
   "metadata": {},
   "outputs": [
    {
     "data": {
      "text/plain": [
       "8675"
      ]
     },
     "execution_count": 97,
     "metadata": {},
     "output_type": "execute_result"
    }
   ],
   "source": [
    "df.sample(frac=1)\n",
    "len(df)"
   ]
  },
  {
   "cell_type": "code",
   "execution_count": 98,
   "metadata": {},
   "outputs": [],
   "source": [
    "path = \"kaggle/\""
   ]
  },
  {
   "cell_type": "code",
   "execution_count": 99,
   "metadata": {},
   "outputs": [],
   "source": [
    "test = TabularList.from_df(df.iloc[7000:].copy(), path=path, cont_names=labels)"
   ]
  },
  {
   "cell_type": "code",
   "execution_count": 100,
   "metadata": {},
   "outputs": [],
   "source": [
    "data = (TabularList.from_df(df, path=path, cont_names=labels)\n",
    "        .split_by_idx(list(range(7000,8675)))\n",
    "        .label_from_df(cols=\"Y\")\n",
    "        .add_test(test)\n",
    "        .databunch(num_workers=0))"
   ]
  },
  {
   "cell_type": "code",
   "execution_count": 148,
   "metadata": {},
   "outputs": [],
   "source": [
    "learn = tabular_learner(data, layers=[1000,100,10], metrics=accuracy)"
   ]
  },
  {
   "cell_type": "code",
   "execution_count": 124,
   "metadata": {},
   "outputs": [
    {
     "data": {
      "text/html": [],
      "text/plain": [
       "<IPython.core.display.HTML object>"
      ]
     },
     "metadata": {},
     "output_type": "display_data"
    },
    {
     "name": "stdout",
     "output_type": "stream",
     "text": [
      "LR Finder is complete, type {learner_name}.recorder.plot() to see the graph.\n"
     ]
    },
    {
     "data": {
      "image/png": "[encoded data removed]",
      "text/plain": [
       "<Figure size 432x288 with 1 Axes>"
      ]
     },
     "metadata": {
      "needs_background": "light"
     },
     "output_type": "display_data"
    }
   ],
   "source": [
    "learn.lr_find()\n",
    "learn.recorder.plot()"
   ]
  },
  {
   "cell_type": "code",
   "execution_count": 149,
   "metadata": {},
   "outputs": [
    {
     "data": {
      "text/html": [
       "Total time: 00:03 <p><table border=\"1\" class=\"dataframe\">\n",
       "  <thead>\n",
       "    <tr style=\"text-align: left;\">\n",
       "      <th>epoch</th>\n",
       "      <th>train_loss</th>\n",
       "      <th>valid_loss</th>\n",
       "      <th>accuracy</th>\n",
       "      <th>time</th>\n",
       "    </tr>\n",
       "  </thead>\n",
       "  <tbody>\n",
       "    <tr>\n",
       "      <td>0</td>\n",
       "      <td>2.104358</td>\n",
       "      <td>2.045037</td>\n",
       "      <td>0.305672</td>\n",
       "      <td>00:03</td>\n",
       "    </tr>\n",
       "  </tbody>\n",
       "</table>"
      ],
      "text/plain": [
       "<IPython.core.display.HTML object>"
      ]
     },
     "metadata": {},
     "output_type": "display_data"
    }
   ],
   "source": [
    "learn.fit(1, 0.01)"
   ]
  },
  {
   "cell_type": "code",
   "execution_count": 150,
   "metadata": {},
   "outputs": [
    {
     "data": {
      "text/html": [],
      "text/plain": [
       "<IPython.core.display.HTML object>"
      ]
     },
     "metadata": {},
     "output_type": "display_data"
    },
    {
     "name": "stdout",
     "output_type": "stream",
     "text": [
      "LR Finder is complete, type {learner_name}.recorder.plot() to see the graph.\n"
     ]
    },
    {
     "data": {
      "image/png": "[encoded data removed]",
      "text/plain": [
       "<Figure size 432x288 with 1 Axes>"
      ]
     },
     "metadata": {
      "needs_background": "light"
     },
     "output_type": "display_data"
    }
   ],
   "source": [
    "learn.lr_find()\n",
    "learn.recorder.plot()"
   ]
  },
  {
   "cell_type": "code",
   "execution_count": 151,
   "metadata": {},
   "outputs": [
    {
     "data": {
      "text/html": [
       "Total time: 00:03 <p><table border=\"1\" class=\"dataframe\">\n",
       "  <thead>\n",
       "    <tr style=\"text-align: left;\">\n",
       "      <th>epoch</th>\n",
       "      <th>train_loss</th>\n",
       "      <th>valid_loss</th>\n",
       "      <th>accuracy</th>\n",
       "      <th>time</th>\n",
       "    </tr>\n",
       "  </thead>\n",
       "  <tbody>\n",
       "    <tr>\n",
       "      <td>0</td>\n",
       "      <td>1.670778</td>\n",
       "      <td>2.003628</td>\n",
       "      <td>0.334925</td>\n",
       "      <td>00:03</td>\n",
       "    </tr>\n",
       "  </tbody>\n",
       "</table>"
      ],
      "text/plain": [
       "<IPython.core.display.HTML object>"
      ]
     },
     "metadata": {},
     "output_type": "display_data"
    }
   ],
   "source": [
    "learn.fit(1,1e-3)"
   ]
  },
  {
   "cell_type": "code",
   "execution_count": 152,
   "metadata": {},
   "outputs": [],
   "source": [
    "learn.export(\"mbti_dist\")"
   ]
  },
  {
   "cell_type": "code",
   "execution_count": 153,
   "metadata": {},
   "outputs": [
    {
     "name": "stdout",
     "output_type": "stream",
     "text": [
      "(Category ESFP, tensor(5), tensor([0., 0., 0., 0., 0., 1., 0., 0., 0., 0., 0., 0., 0., 0., 0., 0.]))\n"
     ]
    },
    {
     "data": {
      "text/plain": [
       "array(['INFP'], dtype=object)"
      ]
     },
     "execution_count": 153,
     "metadata": {},
     "output_type": "execute_result"
    }
   ],
   "source": [
    "txt = \"\"\"\n",
    "\n",
    "FOX\n",
    "82°\n",
    "\n",
    "News\n",
    "Weather\n",
    "Only on FOX 4\n",
    "Sports\n",
    "About Us\n",
    "More \n",
    "12 people killed in Virginia Beach shooting, police say\n",
    "12 people killed in Virginia Beach shooting, police say\n",
    "11 people killed in Virginia Beach shooting, police say\n",
    "Active shooter reported at Virginia Beach courthouse\n",
    "By fox5dc.com staff\n",
    "Posted May 31 2019 03:57PM CDT\n",
    "\n",
    "Video Posted May 31 2019 09:08PM CDT\n",
    "\n",
    "Updated May 31 2019 09:09PM CDT\n",
    "\n",
    "VIRGINIA BEACH, Va. (FOX 5 DC) - Twelve people were killed in a shooting at the Virginia Beach municipal center on Friday.\n",
    "\n",
    "The suspect is also dead, and several other people were injured, according to police. \n",
    "\n",
    "CONTINUE READING BELOW\n",
    "The Wall Street Journal reports the suspect is DeWayne Craddock, 40. \n",
    "\n",
    "Image Gallery 2 PHOTOS\n",
    " \n",
    "Police say Craddock opened fire indiscriminately around 4 p.m.\n",
    "\n",
    "Police Chief James Cervera said Craddock opened fire and shot \"indiscriminately\" at workers inside an operations building in the facility.\n",
    "\n",
    "Cervera said police returned fire, killing Craddock. He said Craddock was a longtime employee of the city's Public Works Department. One of the people shot is a police officer.\n",
    "\n",
    "Gov. Ralph Northam offered a statement Friday evening: \n",
    "\n",
    "“This is a horrific day for the Commonwealth of Virginia. We are devastated by the tragic shooting in Virginia Beach. I am in Virginia Beach with law enforcement authorities and Mayor Dyer, where I am monitoring the situation and offer the state’s full support.\n",
    "\n",
    "My deepest condolences and prayers go to the families of those who left home this morning, and will not return tonight, as well as those who have been injured in this tragedy.\n",
    "\n",
    "This is unspeakable, senseless violence. I commend local and state law enforcement, first responders, medical teams, and all others who acted swiftly to respond to this situation. My thoughts continue to be with the victims and their families.”\n",
    "\n",
    "Maryland's Gov. Larry Hogan also released a statement: \n",
    "\n",
    "\"Shocked and horrified by this heinous shooting in Virginia Beach. Our prayers are with the loved ones of the victims, all those who were injured, and with the selfless first responders. Maryland stands ready to offer any support needed.\"\n",
    "\n",
    "The Associated Press contributed to this report.\n",
    "\n",
    "\n",
    "More U.S. & World Stories\n",
    "A Tennessee man has been sentenced to 10 months in prison for urinating on a Kellogg’s cereal conveyor belt at a Memphis facility.\n",
    "Man sentenced to prison for urinating in Memphis cereal factory\n",
    "By Associated Press\n",
    "Posted May 31 2019 06:50PM CDT\n",
    "\n",
    "Updated May 31 2019 08:16PM CDT\n",
    "\n",
    "A Tennessee man has been sentenced to 10 months in prison for urinating on a Kellogg’s cereal conveyor belt at a Memphis facility.\n",
    "\n",
    "The U.S. attorney’s office in Memphis says 49-year-old Gregory Stanton was sentenced Friday in federal court. Stanton had pleaded guilty in November to tampering with consumer products.\n",
    "\n",
    "An indictment says Stanton was a contract worker at the Kellogg’s plant in April 2014 when he recorded a video of himself urinating into a bucket and dumping the contents into the Raisin Bran production line. He also recorded himself urinating into a production line a month later.\n",
    "\n",
    "Read the full article \n",
    "A 2-year-old girl in Pennsylvania was revived with Narcan by officers after she was found unconscious.\n",
    "2-year-old girl revived with Narcan after officer pulls bag out of child's mouth\n",
    "By Kelly Taylor Hayes\n",
    "Posted May 31 2019 03:12PM CDT\n",
    "\n",
    "Updated May 31 2019 04:47PM CDT\n",
    "\n",
    "A 2-year-old girl in Pennsylvania was revived with Narcan by officers after she was found unconscious.\n",
    "\n",
    "Officers were called to a “child in distress” around 12:30 p.m. Friday outside of a store in Norristown, a suburb of Philadelphia.\n",
    "\n",
    "Surveillance video shows a woman placing the girl on the sidewalk. A witness told FOX 29 he stopped to help and pulled a bag out of her mouth while attempting to revive her.\n",
    "\n",
    "Read the full article \n",
    "Shannon Murray reports.\n",
    "National Spelling Bee ends in 8-way tie, 3 champs from North Texas\n",
    "By BEN NUCKOLS, Associated Press\n",
    "Posted May 30 2019 09:14AM CDT\n",
    "\n",
    "Updated May 31 2019 03:06PM CDT\n",
    "\n",
    "OXON HILL, Md. (AP) - There were warning signs throughout a marathon day of spelling that this Scripps National Spelling Bee would not conclude like any other in the event's 94-year history.\n",
    "\n",
    "Rishik Gandharsi sensed it as he stepped to the microphone for the ninth round of Thursday night's prime-time finals, when he was one of eight spellers remaining onstage.\n",
    "\n",
    "\"Just out of curiosity,\" Rishik asked pronouncer Jacques Bailly, \"do you happen to know what time it is?\"\n",
    "\n",
    "Read the full article \n",
    "Featured Videos\n",
    "Man sentenced to prison for urinating in Memphis cereal factory\n",
    "Dallas PD in 'triage mode' after 40 May murders\n",
    "How will new Mexican tariffs impact North Texas businesses?\n",
    "12 people killed in Virginia Beach shooting, police say\n",
    "Watch more videos\n",
    "Most Recent\n",
    " \n",
    "How will new Mexican tariffs impact North Texas businesses?\n",
    " \n",
    "12 people killed in Virginia Beach shooting, police say\n",
    " \n",
    "Dallas Zoo's baby hippo to make public debut this weekend\n",
    " \n",
    "Bag with human remains of child found in Maleah Davis search in Arkansas\n",
    "More Stories\n",
    "Sponsored Stories:\n",
    "NEWS\n",
    "Local\n",
    "Texas\n",
    "US & World\n",
    "Politics\n",
    "Business\n",
    "Consumer\n",
    "Health\n",
    "WEATHER\n",
    "7-Day Forecast\n",
    "Allergies\n",
    "Alerts\n",
    "Closings\n",
    "4 Your Safety\n",
    "Share Photos\n",
    "ONLY ON FOX 4\n",
    "Good Day\n",
    "FOX 4 Features\n",
    "Lone Star Adventures\n",
    "Trackdown\n",
    "Investigations\n",
    "Basic Training Podcast\n",
    "SPORTS\n",
    "Cowboys\n",
    "Mavericks\n",
    "Rangers\n",
    "Stars\n",
    "FC Dallas\n",
    "Colleges\n",
    "High School\n",
    "ABOUT US\n",
    "Contact Us\n",
    "Links from On Air\n",
    "Anchors and Reporters\n",
    "TV Listings\n",
    "Station History\n",
    "FAQ\n",
    "Work For Us\n",
    "Live Video Traffic Contests FOX 4 More\n",
    "Follow Us\n",
    " \n",
    " \n",
    " \n",
    " \n",
    " \n",
    "FOX 4 News App\n",
    "Download on the App Store Get it on Google Play\n",
    "FOX 4 WAPP\n",
    "Download on the App Store Get it on Google Play\n",
    "FOX 4 Fastlane\n",
    "Download on the App Store Get it on Google Play\n",
    "Updated Privacy Policy (What's Changed) Terms of Service Ad Choices FCC Public File EEOC Public File\n",
    "\"\"\"\n",
    "print(learn.predict(pd.DataFrame([get_distribution(txt)])))\n",
    "rf.predict([get_distribution(txt)])"
   ]
  },
  {
   "cell_type": "code",
   "execution_count": 66,
   "metadata": {},
   "outputs": [],
   "source": [
    "Y2 = [str(learn.predict(df.iloc[i])[0]) for i in range(7000, 8675)]"
   ]
  },
  {
   "cell_type": "code",
   "execution_count": 68,
   "metadata": {},
   "outputs": [
    {
     "data": {
      "text/plain": [
       "['INFP', 'INTP', 'INFP', 'INFP', 'INFP']"
      ]
     },
     "execution_count": 68,
     "metadata": {},
     "output_type": "execute_result"
    }
   ],
   "source": [
    "Y2[0:5]"
   ]
  },
  {
   "cell_type": "code",
   "execution_count": 69,
   "metadata": {},
   "outputs": [
    {
     "data": {
      "text/plain": [
       "{'ENFP', 'ENTP', 'ESTP', 'INFJ', 'INFP', 'INTJ', 'INTP', 'ISTP'}"
      ]
     },
     "execution_count": 69,
     "metadata": {},
     "output_type": "execute_result"
    }
   ],
   "source": [
    "set(Y2)"
   ]
  },
  {
   "cell_type": "code",
   "execution_count": 70,
   "metadata": {},
   "outputs": [],
   "source": [
    "Y3 = df['Y'].iloc[7000:8675]"
   ]
  },
  {
   "cell_type": "code",
   "execution_count": 72,
   "metadata": {},
   "outputs": [
    {
     "data": {
      "text/plain": [
       "0.328955223880597"
      ]
     },
     "execution_count": 72,
     "metadata": {},
     "output_type": "execute_result"
    }
   ],
   "source": [
    "f1_score(Y2,Y3,average=\"micro\")"
   ]
  },
  {
   "cell_type": "code",
   "execution_count": 73,
   "metadata": {},
   "outputs": [
    {
     "data": {
      "text/plain": [
       "(Category INFJ,\n",
       " tensor(8),\n",
       " tensor([0.0221, 0.0661, 0.0403, 0.0526, 0.0067, 0.0066, 0.0089, 0.0102, 0.2868,\n",
       "         0.1234, 0.1938, 0.1022, 0.0172, 0.0215, 0.0205, 0.0212]))"
      ]
     },
     "execution_count": 73,
     "metadata": {},
     "output_type": "execute_result"
    }
   ],
   "source": [
    "learn.predict(df.iloc[8000])"
   ]
  },
  {
   "cell_type": "code",
   "execution_count": 75,
   "metadata": {},
   "outputs": [
    {
     "data": {
      "text/plain": [
       "(Category INFP,\n",
       " tensor(9),\n",
       " tensor([1.4520e-02, 4.4032e-02, 9.8339e-04, 4.2091e-03, 1.2192e-03, 1.0254e-03,\n",
       "         3.4316e-04, 5.9594e-04, 1.1136e-01, 7.4701e-01, 1.4696e-02, 1.8259e-02,\n",
       "         1.1601e-02, 2.2508e-02, 3.6701e-03, 3.9670e-03]))"
      ]
     },
     "execution_count": 75,
     "metadata": {},
     "output_type": "execute_result"
    }
   ],
   "source": [
    "learn.predict(df.iloc[7000])"
   ]
  },
  {
   "cell_type": "code",
   "execution_count": null,
   "metadata": {},
   "outputs": [],
   "source": []
  }
 ],
 "metadata": {
  "kernelspec": {
   "display_name": "Python 3",
   "language": "python",
   "name": "python3"
  },
  "language_info": {
   "codemirror_mode": {
    "name": "ipython",
    "version": 3
   },
   "file_extension": ".py",
   "mimetype": "text/x-python",
   "name": "python",
   "nbconvert_exporter": "python",
   "pygments_lexer": "ipython3",
   "version": "3.6.8"
  }
 },
 "nbformat": 4,
 "nbformat_minor": 2
}
